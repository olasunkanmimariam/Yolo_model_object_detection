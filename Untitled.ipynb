{
 "cells": [
  {
   "cell_type": "code",
   "execution_count": 1,
   "id": "78a06729",
   "metadata": {},
   "outputs": [
    {
     "name": "stdout",
     "output_type": "stream",
     "text": [
      "Collecting fiftyone\n",
      "  Downloading fiftyone-0.14.3-py3-none-any.whl (1.2 MB)\n",
      "Requirement already satisfied: Pillow>=6.2 in c:\\users\\user\\anaconda3\\lib\\site-packages (from fiftyone) (8.2.0)\n",
      "Collecting opencv-python-headless\n",
      "  Downloading opencv_python_headless-4.5.5.62-cp36-abi3-win_amd64.whl (35.3 MB)\n",
      "Collecting voxel51-eta<0.7,>=0.6.2\n",
      "  Downloading voxel51_eta-0.6.2.2-py2.py3-none-any.whl (563 kB)\n",
      "Collecting retrying\n",
      "  Downloading retrying-1.3.3.tar.gz (10 kB)\n",
      "Collecting aiofiles\n",
      "  Downloading aiofiles-0.8.0-py3-none-any.whl (13 kB)\n",
      "Requirement already satisfied: tornado<7,>=5.1.1 in c:\\users\\user\\anaconda3\\lib\\site-packages (from fiftyone) (6.1)\n",
      "Requirement already satisfied: xmltodict in c:\\users\\user\\anaconda3\\lib\\site-packages (from fiftyone) (0.12.0)\n",
      "Requirement already satisfied: scikit-image in c:\\users\\user\\anaconda3\\lib\\site-packages (from fiftyone) (0.18.1)\n",
      "Collecting eventlet\n",
      "  Downloading eventlet-0.33.0-py2.py3-none-any.whl (226 kB)\n",
      "Collecting kaleido\n",
      "  Downloading kaleido-0.2.1-py2.py3-none-win_amd64.whl (65.9 MB)\n",
      "Requirement already satisfied: packaging in c:\\users\\user\\anaconda3\\lib\\site-packages (from fiftyone) (20.9)\n",
      "Collecting plotly<5,>=4.14\n",
      "  Downloading plotly-4.14.3-py2.py3-none-any.whl (13.2 MB)\n",
      "Requirement already satisfied: setuptools in c:\\users\\user\\anaconda3\\lib\\site-packages (from fiftyone) (52.0.0.post20210125)\n",
      "Collecting motor<3,>=2.3\n",
      "  Downloading motor-2.5.1-py3-none-any.whl (55 kB)\n",
      "Collecting fiftyone-brain<0.8,>=0.7.3\n",
      "  Downloading fiftyone_brain-0.7.3-cp38-cp38-win_amd64.whl (631 kB)\n",
      "Collecting pprintpp\n",
      "  Downloading pprintpp-0.4.0-py2.py3-none-any.whl (16 kB)\n",
      "Requirement already satisfied: future in c:\\users\\user\\anaconda3\\lib\\site-packages (from fiftyone) (0.18.2)\n",
      "Requirement already satisfied: pytz in c:\\users\\user\\anaconda3\\lib\\site-packages (from fiftyone) (2021.1)\n",
      "Collecting mongoengine==0.20.0\n",
      "  Downloading mongoengine-0.20.0-py3-none-any.whl (106 kB)\n",
      "Collecting boto3\n",
      "  Downloading boto3-1.20.40-py3-none-any.whl (131 kB)\n",
      "Collecting fiftyone-db<0.4,>=0.3\n",
      "  Downloading fiftyone_db-0.3.0-py3-none-win_amd64.whl (16.6 MB)\n",
      "Requirement already satisfied: PyYAML in c:\\users\\user\\anaconda3\\lib\\site-packages (from fiftyone) (5.4.1)\n",
      "Collecting pymongo<4,>=3.11\n",
      "  Downloading pymongo-3.12.3-cp38-cp38-win_amd64.whl (398 kB)\n",
      "Requirement already satisfied: psutil in c:\\users\\user\\anaconda3\\lib\\site-packages (from fiftyone) (5.8.0)\n",
      "Collecting universal-analytics-python3<2,>=1.0.1\n",
      "  Downloading universal_analytics_python3-1.1.1-py3-none-any.whl (10 kB)\n",
      "Requirement already satisfied: Jinja2 in c:\\users\\user\\anaconda3\\lib\\site-packages (from fiftyone) (2.11.3)\n",
      "Requirement already satisfied: pandas in c:\\users\\user\\anaconda3\\lib\\site-packages (from fiftyone) (1.2.4)\n",
      "Collecting argcomplete\n",
      "  Downloading argcomplete-2.0.0-py2.py3-none-any.whl (37 kB)\n",
      "Requirement already satisfied: scikit-learn in c:\\users\\user\\anaconda3\\lib\\site-packages (from fiftyone) (0.24.1)\n",
      "Requirement already satisfied: numpy in c:\\users\\user\\anaconda3\\lib\\site-packages (from fiftyone) (1.20.1)\n",
      "Collecting tabulate\n",
      "  Using cached tabulate-0.8.9-py3-none-any.whl (25 kB)\n",
      "Collecting Deprecated\n",
      "  Downloading Deprecated-1.2.13-py2.py3-none-any.whl (9.6 kB)\n",
      "Requirement already satisfied: matplotlib in c:\\users\\user\\anaconda3\\lib\\site-packages (from fiftyone) (3.3.4)\n",
      "Requirement already satisfied: scipy>=1.2.0 in c:\\users\\user\\anaconda3\\lib\\site-packages (from fiftyone-brain<0.8,>=0.7.3->fiftyone) (1.6.2)\n",
      "Requirement already satisfied: six in c:\\users\\user\\anaconda3\\lib\\site-packages (from plotly<5,>=4.14->fiftyone) (1.15.0)\n",
      "Collecting httpx>=0.10.0\n",
      "  Downloading httpx-0.21.3-py3-none-any.whl (83 kB)\n",
      "Collecting charset-normalizer\n",
      "  Downloading charset_normalizer-2.0.10-py3-none-any.whl (39 kB)\n",
      "Requirement already satisfied: sniffio in c:\\users\\user\\anaconda3\\lib\\site-packages (from httpx>=0.10.0->universal-analytics-python3<2,>=1.0.1->fiftyone) (1.2.0)\n",
      "Requirement already satisfied: certifi in c:\\users\\user\\anaconda3\\lib\\site-packages (from httpx>=0.10.0->universal-analytics-python3<2,>=1.0.1->fiftyone) (2020.12.5)\n",
      "Collecting rfc3986[idna2008]<2,>=1.3\n",
      "Note: you may need to restart the kernel to use updated packages.\n",
      "  Downloading rfc3986-1.5.0-py2.py3-none-any.whl (31 kB)\n",
      "Collecting httpcore<0.15.0,>=0.14.0\n",
      "  Downloading httpcore-0.14.5-py3-none-any.whl (67 kB)\n",
      "Collecting anyio==3.*\n",
      "  Downloading anyio-3.5.0-py3-none-any.whl (79 kB)\n",
      "Collecting h11<0.13,>=0.11\n",
      "  Using cached h11-0.12.0-py3-none-any.whl (54 kB)\n",
      "Requirement already satisfied: idna>=2.8 in c:\\users\\user\\anaconda3\\lib\\site-packages (from anyio==3.*->httpcore<0.15.0,>=0.14.0->httpx>=0.10.0->universal-analytics-python3<2,>=1.0.1->fiftyone) (2.10)\n",
      "Requirement already satisfied: python-dateutil in c:\\users\\user\\anaconda3\\lib\\site-packages (from voxel51-eta<0.7,>=0.6.2->fiftyone) (2.8.1)\n",
      "Requirement already satisfied: sortedcontainers in c:\\users\\user\\anaconda3\\lib\\site-packages (from voxel51-eta<0.7,>=0.6.2->fiftyone) (2.3.0)\n",
      "Collecting ndjson\n",
      "  Downloading ndjson-0.3.1-py2.py3-none-any.whl (5.3 kB)\n",
      "Collecting dill\n",
      "  Using cached dill-0.3.4-py2.py3-none-any.whl (86 kB)\n",
      "Requirement already satisfied: requests in c:\\users\\user\\anaconda3\\lib\\site-packages (from voxel51-eta<0.7,>=0.6.2->fiftyone) (2.25.1)\n",
      "Collecting patool\n",
      "  Downloading patool-1.12-py2.py3-none-any.whl (77 kB)\n",
      "Collecting tzlocal\n",
      "  Using cached tzlocal-4.1-py3-none-any.whl (19 kB)\n",
      "Requirement already satisfied: glob2 in c:\\users\\user\\anaconda3\\lib\\site-packages (from voxel51-eta<0.7,>=0.6.2->fiftyone) (0.7)\n",
      "Collecting s3transfer<0.6.0,>=0.5.0\n",
      "  Downloading s3transfer-0.5.0-py3-none-any.whl (79 kB)\n",
      "Collecting botocore<1.24.0,>=1.23.40\n",
      "  Downloading botocore-1.23.40-py3-none-any.whl (8.5 MB)\n",
      "Collecting jmespath<1.0.0,>=0.7.1\n",
      "  Downloading jmespath-0.10.0-py2.py3-none-any.whl (24 kB)\n",
      "Requirement already satisfied: urllib3<1.27,>=1.25.4 in c:\\users\\user\\anaconda3\\lib\\site-packages (from botocore<1.24.0,>=1.23.40->boto3->fiftyone) (1.26.4)\n",
      "Requirement already satisfied: wrapt<2,>=1.10 in c:\\users\\user\\anaconda3\\lib\\site-packages (from Deprecated->fiftyone) (1.12.1)\n",
      "Collecting dnspython>=1.15.0\n",
      "  Downloading dnspython-2.2.0-py3-none-any.whl (266 kB)\n",
      "Requirement already satisfied: greenlet>=0.3 in c:\\users\\user\\anaconda3\\lib\\site-packages (from eventlet->fiftyone) (1.0.0)\n",
      "Requirement already satisfied: MarkupSafe>=0.23 in c:\\users\\user\\anaconda3\\lib\\site-packages (from Jinja2->fiftyone) (1.1.1)\n",
      "Requirement already satisfied: kiwisolver>=1.0.1 in c:\\users\\user\\anaconda3\\lib\\site-packages (from matplotlib->fiftyone) (1.3.1)\n",
      "Requirement already satisfied: pyparsing!=2.0.4,!=2.1.2,!=2.1.6,>=2.0.3 in c:\\users\\user\\anaconda3\\lib\\site-packages (from matplotlib->fiftyone) (2.4.7)\n",
      "Requirement already satisfied: cycler>=0.10 in c:\\users\\user\\anaconda3\\lib\\site-packages (from matplotlib->fiftyone) (0.10.0)\n",
      "Requirement already satisfied: chardet<5,>=3.0.2 in c:\\users\\user\\anaconda3\\lib\\site-packages (from requests->voxel51-eta<0.7,>=0.6.2->fiftyone) (4.0.0)\n",
      "Requirement already satisfied: networkx>=2.0 in c:\\users\\user\\anaconda3\\lib\\site-packages (from scikit-image->fiftyone) (2.5)\n",
      "Requirement already satisfied: imageio>=2.3.0 in c:\\users\\user\\anaconda3\\lib\\site-packages (from scikit-image->fiftyone) (2.9.0)\n",
      "Requirement already satisfied: tifffile>=2019.7.26 in c:\\users\\user\\anaconda3\\lib\\site-packages (from scikit-image->fiftyone) (2021.4.8)\n",
      "Requirement already satisfied: PyWavelets>=1.1.1 in c:\\users\\user\\anaconda3\\lib\\site-packages (from scikit-image->fiftyone) (1.1.1)\n",
      "Requirement already satisfied: decorator>=4.3.0 in c:\\users\\user\\anaconda3\\lib\\site-packages (from networkx>=2.0->scikit-image->fiftyone) (5.0.6)\n",
      "Requirement already satisfied: threadpoolctl>=2.0.0 in c:\\users\\user\\anaconda3\\lib\\site-packages (from scikit-learn->fiftyone) (2.1.0)\n",
      "Requirement already satisfied: joblib>=0.11 in c:\\users\\user\\anaconda3\\lib\\site-packages (from scikit-learn->fiftyone) (1.0.1)\n",
      "Collecting tzdata\n",
      "  Using cached tzdata-2021.5-py2.py3-none-any.whl (339 kB)\n",
      "Collecting backports.zoneinfo\n",
      "  Downloading backports.zoneinfo-0.2.1-cp38-cp38-win_amd64.whl (38 kB)\n",
      "Collecting pytz-deprecation-shim\n",
      "  Using cached pytz_deprecation_shim-0.1.0.post0-py2.py3-none-any.whl (15 kB)\n",
      "Building wheels for collected packages: retrying\n",
      "  Building wheel for retrying (setup.py): started\n",
      "  Building wheel for retrying (setup.py): finished with status 'done'\n",
      "  Created wheel for retrying: filename=retrying-1.3.3-py3-none-any.whl size=11429 sha256=a23fc89391decb8359cc39836d7338bded47fe4db140b75e5ad0da8993823850\n",
      "  Stored in directory: c:\\users\\user\\appdata\\local\\pip\\cache\\wheels\\c4\\a7\\48\\0a434133f6d56e878ca511c0e6c38326907c0792f67b476e56\n",
      "Successfully built retrying\n",
      "Installing collected packages: tzdata, rfc3986, jmespath, h11, backports.zoneinfo, anyio, pytz-deprecation-shim, httpcore, charset-normalizer, botocore, tzlocal, tabulate, s3transfer, retrying, pymongo, patool, opencv-python-headless, ndjson, httpx, dnspython, dill, argcomplete, voxel51-eta, universal-analytics-python3, pprintpp, plotly, motor, mongoengine, kaleido, fiftyone-db, fiftyone-brain, eventlet, Deprecated, boto3, aiofiles, fiftyone\n",
      "  Attempting uninstall: anyio\n",
      "    Found existing installation: anyio 2.2.0\n",
      "    Uninstalling anyio-2.2.0:\n",
      "      Successfully uninstalled anyio-2.2.0\n",
      "Successfully installed Deprecated-1.2.13 aiofiles-0.8.0 anyio-3.5.0 argcomplete-2.0.0 backports.zoneinfo-0.2.1 boto3-1.20.40 botocore-1.23.40 charset-normalizer-2.0.10 dill-0.3.4 dnspython-2.2.0 eventlet-0.33.0 fiftyone-0.14.3 fiftyone-brain-0.7.3 fiftyone-db-0.3.0 h11-0.12.0 httpcore-0.14.5 httpx-0.21.3 jmespath-0.10.0 kaleido-0.2.1 mongoengine-0.20.0 motor-2.5.1 ndjson-0.3.1 opencv-python-headless-4.5.5.62 patool-1.12 plotly-4.14.3 pprintpp-0.4.0 pymongo-3.12.3 pytz-deprecation-shim-0.1.0.post0 retrying-1.3.3 rfc3986-1.5.0 s3transfer-0.5.0 tabulate-0.8.9 tzdata-2021.5 tzlocal-4.1 universal-analytics-python3-1.1.1 voxel51-eta-0.6.2.2\n"
     ]
    }
   ],
   "source": [
    "pip install fiftyone"
   ]
  },
  {
   "cell_type": "code",
   "execution_count": 3,
   "id": "e98fba43",
   "metadata": {},
   "outputs": [
    {
     "name": "stdout",
     "output_type": "stream",
     "text": [
      "Downloading split 'train' to 'C:\\Users\\USER\\fiftyone\\coco-2017\\train' if necessary\n",
      "Downloading annotations to 'C:\\Users\\USER\\fiftyone\\coco-2017\\tmp-download\\annotations_trainval2017.zip'\n",
      " 100% |██████|    1.9Gb/1.9Gb [1.9m elapsed, 0s remaining, 37.3Mb/s]      \n",
      "Extracting annotations to 'C:\\Users\\USER\\fiftyone\\coco-2017\\raw\\instances_train2017.json'\n",
      "Downloading 2000 images\n",
      " 100% |████████████████| 2000/2000 [14.5m elapsed, 0s remaining, 3.5 images/s]      \n",
      "Writing annotations for 2000 downloaded samples to 'C:\\Users\\USER\\fiftyone\\coco-2017\\train\\labels.json'\n",
      "Dataset info written to 'C:\\Users\\USER\\fiftyone\\coco-2017\\info.json'\n",
      "Loading 'coco-2017' split 'train'\n",
      " 100% |███████████████| 2000/2000 [39.8s elapsed, 0s remaining, 97.3 samples/s]      \n",
      "Dataset 'coco-2017-train-2000' created\n"
     ]
    }
   ],
   "source": [
    "import fiftyone.zoo as foz\n",
    "\n",
    "# To download the COCO dataset for only the \"person\", \"car\" and \"bus\" classes\n",
    "dataset = foz.load_zoo_dataset(\n",
    "    \"coco-2017\",\n",
    "    split=\"train\",\n",
    "    label_types=[\"detections\"],\n",
    "    classes=[\"person\", \"car\", \"bus\"],\n",
    "    max_samples=2000,\n",
    "    shuffle=True\n",
    ")"
   ]
  },
  {
   "cell_type": "code",
   "execution_count": 4,
   "id": "75f688c8",
   "metadata": {},
   "outputs": [],
   "source": [
    "from fiftyone import ViewField as F\n",
    "\n",
    "# # Create a view that only contains person, car and bus\n",
    "view = dataset.filter_labels(\"ground_truth\", F(\"label\").is_in([\"person\", \"car\", \"bus\"]))"
   ]
  },
  {
   "cell_type": "code",
   "execution_count": 5,
   "id": "c90e6476",
   "metadata": {},
   "outputs": [
    {
     "data": {
      "text/plain": [
       "Dataset:     coco-2017-train-2000\n",
       "Media type:  image\n",
       "Num samples: 2000\n",
       "Tags:        ['train']\n",
       "Sample fields:\n",
       "    id:           fiftyone.core.fields.ObjectIdField\n",
       "    filepath:     fiftyone.core.fields.StringField\n",
       "    tags:         fiftyone.core.fields.ListField(fiftyone.core.fields.StringField)\n",
       "    metadata:     fiftyone.core.fields.EmbeddedDocumentField(fiftyone.core.metadata.Metadata)\n",
       "    ground_truth: fiftyone.core.fields.EmbeddedDocumentField(fiftyone.core.labels.Detections)\n",
       "View stages:\n",
       "    1. FilterLabels(field='ground_truth', filter={'$in': ['$$this.label', [...]]}, only_matches=True, trajectories=False)"
      ]
     },
     "execution_count": 5,
     "metadata": {},
     "output_type": "execute_result"
    }
   ],
   "source": [
    "view"
   ]
  },
  {
   "cell_type": "code",
   "execution_count": 6,
   "id": "1afc22b2",
   "metadata": {},
   "outputs": [
    {
     "name": "stdout",
     "output_type": "stream",
     "text": [
      " 100% |███████████████| 2000/2000 [30.2s elapsed, 0s remaining, 131.8 samples/s]      \n"
     ]
    }
   ],
   "source": [
    "import fiftyone as fo\n",
    "\n",
    "export_dir = \"./Data\"\n",
    "label_field = \"ground_truth\"\n",
    "\n",
    "view.export(\n",
    "    export_dir=export_dir,\n",
    "#     labels_path=\"./Data/coco.json\",\n",
    "    dataset_type=fo.types.YOLOv4Dataset,\n",
    "    label_field=label_field,\n",
    "    export_media=\"move\",\n",
    ")"
   ]
  },
  {
   "cell_type": "code",
   "execution_count": null,
   "id": "e0627353",
   "metadata": {},
   "outputs": [],
   "source": []
  }
 ],
 "metadata": {
  "kernelspec": {
   "display_name": "Python 3",
   "language": "python",
   "name": "python3"
  },
  "language_info": {
   "codemirror_mode": {
    "name": "ipython",
    "version": 3
   },
   "file_extension": ".py",
   "mimetype": "text/x-python",
   "name": "python",
   "nbconvert_exporter": "python",
   "pygments_lexer": "ipython3",
   "version": "3.8.8"
  }
 },
 "nbformat": 4,
 "nbformat_minor": 5
}
